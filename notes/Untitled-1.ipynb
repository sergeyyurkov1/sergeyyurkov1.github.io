{
 "cells": [
  {
   "cell_type": "raw",
   "metadata": {},
   "source": [
    "---\n",
    "title: \"\"\n",
    "author: \"Yurkov Sergey\"\n",
    "date: \"2024-01-01\"\n",
    "categories: [python]\n",
    "format: html\n",
    "draft: true\n",
    "---"
   ]
  },
  {
   "cell_type": "markdown",
   "metadata": {},
   "source": []
  },
  {
   "cell_type": "raw",
   "metadata": {},
   "source": [
    "```{=html}\n",
    "<iframe src=\"https://www.kdnuggets.com/customer-segmentation-in-python-a-practical-approach\" width=\"500\" height=\"400\"></iframe>\n",
    "```"
   ]
  },
  {
   "cell_type": "raw",
   "metadata": {},
   "source": [
    "```{=html}\n",
    "<iframe src=\"https://www.sqlhabit.com/metrics-and-kpis-reference\" width=\"500\" height=\"400\"></iframe>\n",
    "```"
   ]
  },
  {
   "cell_type": "raw",
   "metadata": {},
   "source": [
    "```{=html}\n",
    "<iframe src=\"https://www.freecodecamp.org/news/customer-segmentation-python-machine-learning/\" width=\"500\" height=\"400\"></iframe>\n",
    "```"
   ]
  },
  {
   "cell_type": "raw",
   "metadata": {},
   "source": [
    "```{=html}\n",
    "<iframe src=\"https://www.erinshellman.com/bot-or-not/\" width=\"500\" height=\"400\"></iframe>\n",
    "```"
   ]
  },
  {
   "cell_type": "code",
   "execution_count": 1,
   "metadata": {},
   "outputs": [
    {
     "data": {
      "text/plain": [
       "2"
      ]
     },
     "execution_count": 1,
     "metadata": {},
     "output_type": "execute_result"
    }
   ],
   "source": [
    "1 + 1"
   ]
  }
 ],
 "metadata": {
  "kernelspec": {
   "display_name": "base",
   "language": "python",
   "name": "python3"
  },
  "language_info": {
   "codemirror_mode": {
    "name": "ipython",
    "version": 3
   },
   "file_extension": ".py",
   "mimetype": "text/x-python",
   "name": "python",
   "nbconvert_exporter": "python",
   "pygments_lexer": "ipython3",
   "version": "3.10.13"
  }
 },
 "nbformat": 4,
 "nbformat_minor": 2
}
